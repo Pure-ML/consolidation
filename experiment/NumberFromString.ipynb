{
 "cells": [
  {
   "cell_type": "markdown",
   "metadata": {},
   "source": [
    "Goal: \n",
    "Determine types of each column in a dataset \n",
    "Identify which of the columns are strings containing a number \n",
    "Extract the number \n",
    "Create a new column with that number \n"
   ]
  },
  {
   "cell_type": "code",
   "execution_count": 1,
   "metadata": {},
   "outputs": [],
   "source": [
    "import pandas as pd\n",
    "import numpy as np"
   ]
  },
  {
   "cell_type": "code",
   "execution_count": null,
   "metadata": {},
   "outputs": [],
   "source": [
    "# Load your dataset (replace 'your_dataset.csv' with your actual CSV file)\n",
    "# Ensure the file is in the same directory or provide the full path\n",
    "data = pd.read_csv('/Users/skrachur/Desktop/pureml/base_dataset_1000_missing_values.csv')\n",
    "\n",
    "# Display the first few rows of the dataset\n",
    "print(\"Dataset Preview:\")\n",
    "print(data.head())"
   ]
  },
  {
   "cell_type": "code",
   "execution_count": 3,
   "metadata": {},
   "outputs": [],
   "source": [
    "# Function to determine the type of each column\n",
    "def determine_column_types(df):\n",
    "    column_types = {}\n",
    "    for column in df.columns:\n",
    "        column_types[column] = df[column].apply(type).value_counts().idxmax()\n",
    "    return column_types"
   ]
  },
  {
   "cell_type": "code",
   "execution_count": 4,
   "metadata": {},
   "outputs": [],
   "source": [
    "# %%\n",
    "# Function to extract numbers from strings and create a new column\n",
    "def extract_numbers_from_strings(df):\n",
    "    for column in df.columns:\n",
    "        # Check if the column contains strings\n",
    "        if df[column].dtype == object:\n",
    "            # Check if the column contains any numeric values within the strings\n",
    "            if df[column].str.contains(r'\\d').any():\n",
    "                # Extract numbers and create a new column\n",
    "                df[column + '_extracted_number'] = df[column].str.extract(r'(\\d+(\\.\\d+)?)')[0]\n",
    "                # Convert extracted numbers to numeric type, set non-numeric to NaN\n",
    "                df[column + '_extracted_number'] = pd.to_numeric(df[column + '_extracted_number'], errors='coerce')"
   ]
  },
  {
   "cell_type": "code",
   "execution_count": null,
   "metadata": {},
   "outputs": [],
   "source": [
    "# %%\n",
    "# Determine column types\n",
    "column_types = determine_column_types(data)\n",
    "print(\"\\nColumn Types:\")\n",
    "print(column_types)"
   ]
  },
  {
   "cell_type": "code",
   "execution_count": null,
   "metadata": {},
   "outputs": [],
   "source": [
    "# Extract numbers from string columns\n",
    "extract_numbers_from_strings(data)\n",
    "\n",
    "# Display the updated dataset\n",
    "print(\"\\nUpdated Dataset:\")\n",
    "print(data.head())"
   ]
  },
  {
   "cell_type": "code",
   "execution_count": null,
   "metadata": {},
   "outputs": [],
   "source": [
    "# Save the updated dataset to a new CSV file\n",
    "data.to_csv('updated_dataset.csv', index=False)\n",
    "print(\"\\nUpdated dataset saved to 'updated_dataset.csv'\")"
   ]
  }
 ],
 "metadata": {
  "kernelspec": {
   "display_name": "base",
   "language": "python",
   "name": "python3"
  },
  "language_info": {
   "codemirror_mode": {
    "name": "ipython",
    "version": 3
   },
   "file_extension": ".py",
   "mimetype": "text/x-python",
   "name": "python",
   "nbconvert_exporter": "python",
   "pygments_lexer": "ipython3",
   "version": "3.12.4"
  }
 },
 "nbformat": 4,
 "nbformat_minor": 2
}
